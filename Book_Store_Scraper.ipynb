{
 "cells": [
  {
   "cell_type": "code",
   "execution_count": 148,
   "metadata": {},
   "outputs": [],
   "source": [
    "import requests\n",
    "from bs4 import BeautifulSoup"
   ]
  },
  {
   "cell_type": "code",
   "execution_count": 149,
   "metadata": {},
   "outputs": [],
   "source": [
    "base_url = 'http://books.toscrape.com'"
   ]
  },
  {
   "cell_type": "code",
   "execution_count": 150,
   "metadata": {},
   "outputs": [],
   "source": [
    "def get_url_of_nth_page(n):\n",
    "    return (base_url + '/catalogue/page-' + str(n + 1) + '.html')"
   ]
  },
  {
   "cell_type": "code",
   "execution_count": 151,
   "metadata": {},
   "outputs": [],
   "source": [
    "def return_response_from_page_index(n):\n",
    "    \n",
    "    url = get_url_of_nth_page(n)\n",
    "    response = requests.get(url)\n",
    "    \n",
    "    return response"
   ]
  },
  {
   "cell_type": "code",
   "execution_count": 152,
   "metadata": {},
   "outputs": [],
   "source": [
    "def return_img_src_from_book_tag(book_tag):\n",
    "    \n",
    "    attrs_dict = {\n",
    "        'class': 'image_container'\n",
    "    }\n",
    "    \n",
    "    img_container_tag = book_tag.find('div', attrs_dict)\n",
    "    img_tag = img_container_tag.find('img')\n",
    "    \n",
    "    src = img_tag['src']\n",
    "    \n",
    "    return src"
   ]
  },
  {
   "cell_type": "code",
   "execution_count": 213,
   "metadata": {},
   "outputs": [],
   "source": [
    "def return_book_name_from_book_tag(book_tag):\n",
    "    \n",
    "    h3_tag = book_tag.find('h3')\n",
    "    \n",
    "    anchor_tag = h3_tag.find('a')\n",
    "    \n",
    "    name = anchor_tag['title'].replace('â\\x80\\x99', chr(39)).replace('â\\x80\\x9c', chr(34))\n",
    "    \n",
    "    name = name.replace('\"', (chr(34) + chr(34)))\n",
    "    \n",
    "    if not name.find(',') == -1:\n",
    "        name = '\"' + name + '\"'\n",
    "    \n",
    "    return name"
   ]
  },
  {
   "cell_type": "code",
   "execution_count": 165,
   "metadata": {},
   "outputs": [],
   "source": [
    "def return_book_price_from_book_tag(book_tag):\n",
    "    \n",
    "    attrs_dict = {\n",
    "        'class': 'product_price'\n",
    "    }\n",
    "    \n",
    "    price_container_tag = book_tag.find('div', attrs_dict)\n",
    "    \n",
    "    attrs_dict = {\n",
    "        'class': 'price_color'\n",
    "    }\n",
    "    \n",
    "    price_tag = price_container_tag.find('p', attrs_dict)\n",
    "    \n",
    "    price = price_tag.text[1:]\n",
    "    \n",
    "    return price"
   ]
  },
  {
   "cell_type": "code",
   "execution_count": 196,
   "metadata": {},
   "outputs": [],
   "source": [
    "def return_data_from_html_text(cntnt):\n",
    "    parsed_html = BeautifulSoup(cntnt, 'html.parser', from_encoding = \"utf-8\")\n",
    "    \n",
    "    books_tag = parsed_html.findAll(\"li\", {\"class\": \"col-xs-6 col-sm-4 col-md-3 col-lg-3\"})\n",
    "    \n",
    "    thumbnails_src = [return_img_src_from_book_tag(book) for book in books_tag]\n",
    "    \n",
    "    names_txt = [return_book_name_from_book_tag(book) for book in books_tag]\n",
    "    \n",
    "    prices = [return_book_price_from_book_tag(book) for book in books_tag]\n",
    "    \n",
    "    return_tuple = (thumbnails_src, names_txt, prices)\n",
    "        \n",
    "    return return_tuple"
   ]
  },
  {
   "cell_type": "code",
   "execution_count": 197,
   "metadata": {},
   "outputs": [],
   "source": [
    "all_thumbnail_srcs = []\n",
    "all_book_names = []\n",
    "all_book_prices = []"
   ]
  },
  {
   "cell_type": "code",
   "execution_count": 214,
   "metadata": {},
   "outputs": [],
   "source": [
    "for page_index in range(50):\n",
    "    \n",
    "    response = return_response_from_page_index(page_index)\n",
    "    parsed_tuple = return_data_from_html_text(response.content)\n",
    "    \n",
    "    all_thumbnail_srcs += parsed_tuple[0]\n",
    "    all_book_names += parsed_tuple[1]\n",
    "    all_book_prices += parsed_tuple[2]"
   ]
  },
  {
   "cell_type": "code",
   "execution_count": 215,
   "metadata": {},
   "outputs": [],
   "source": [
    "# A CSV file with a structure similar to this was needed to submitted as the result\n",
    "\n",
    "with open('result.csv', 'w', encoding='utf-8') as file:\n",
    "    file.write('image_url,book_title,product_price\\n')\n",
    "    for i in range(len(all_thumbnail_srcs)):\n",
    "        try:\n",
    "            file.write(all_thumbnail_srcs[i])\n",
    "            file.write(',')\n",
    "            \n",
    "            file.write(all_book_names[i])\n",
    "            \n",
    "            file.write(',')\n",
    "            \n",
    "            file.write('£')\n",
    "            file.write(all_book_prices[i])\n",
    "            \n",
    "            file.write('\\n')\n",
    "        except:\n",
    "            print('problem i = ',i)\n",
    "            break"
   ]
  },
  {
   "cell_type": "code",
   "execution_count": null,
   "metadata": {},
   "outputs": [],
   "source": []
  }
 ],
 "metadata": {
  "kernelspec": {
   "display_name": "Python 3",
   "language": "python",
   "name": "python3"
  },
  "language_info": {
   "codemirror_mode": {
    "name": "ipython",
    "version": 3
   },
   "file_extension": ".py",
   "mimetype": "text/x-python",
   "name": "python",
   "nbconvert_exporter": "python",
   "pygments_lexer": "ipython3",
   "version": "3.8.5"
  }
 },
 "nbformat": 4,
 "nbformat_minor": 4
}